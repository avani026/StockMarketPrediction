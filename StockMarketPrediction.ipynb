{
  "nbformat": 4,
  "nbformat_minor": 0,
  "metadata": {
    "colab": {
      "provenance": []
    },
    "kernelspec": {
      "name": "python3",
      "display_name": "Python 3"
    },
    "language_info": {
      "name": "python"
    }
  },
  "cells": [
    {
      "cell_type": "code",
      "execution_count": 1,
      "metadata": {
        "colab": {
          "base_uri": "https://localhost:8080/"
        },
        "id": "hTqdeFYN80DH",
        "outputId": "67a07dbe-c3d9-4546-9e3b-4de8b3cfaf1a"
      },
      "outputs": [
        {
          "output_type": "stream",
          "name": "stdout",
          "text": [
            "\r[*********************100%%**********************]  1 of 1 completed\n",
            "Mean Squared Error: 95.40524615606847\n",
            "R-squared: 0.9144121377255523\n",
            "Predicted stock price on 2024-01-01: 259.37\n"
          ]
        }
      ],
      "source": [
        "import pandas as pd\n",
        "import numpy as np\n",
        "from sklearn.model_selection import train_test_split\n",
        "from sklearn.linear_model import LinearRegression\n",
        "import yfinance as yf\n",
        "import datetime\n",
        "\n",
        "# Define the stock symbol and date range for historical data\n",
        "stock_symbol = 'AAPL'\n",
        "start_date = '2020-01-01'\n",
        "end_date = '2021-12-31'\n",
        "\n",
        "# Fetch historical stock data using Yahoo Finance\n",
        "df = yf.download(stock_symbol, start=start_date, end=end_date)\n",
        "\n",
        "# Prepare the data\n",
        "df['Date'] = df.index\n",
        "df.reset_index(drop=True, inplace=True)\n",
        "df['Date'] = pd.to_datetime(df['Date'])\n",
        "df['Date'] = df['Date'].apply(lambda x: x.toordinal())\n",
        "\n",
        "# Create a feature matrix (X) and target variable (y)\n",
        "X = df[['Date']].values\n",
        "y = df['Close'].values\n",
        "\n",
        "# Split the data into training and testing sets\n",
        "X_train, X_test, y_train, y_test = train_test_split(X, y, test_size=0.2, random_state=42)\n",
        "\n",
        "# Create a linear regression model\n",
        "model = LinearRegression()\n",
        "\n",
        "# Train the model\n",
        "model.fit(X_train, y_train)\n",
        "\n",
        "# Make predictions on the test data\n",
        "y_pred = model.predict(X_test)\n",
        "\n",
        "# Evaluate the model (you can use various metrics)\n",
        "from sklearn.metrics import mean_squared_error, r2_score\n",
        "mse = mean_squared_error(y_test, y_pred)\n",
        "r2 = r2_score(y_test, y_pred)\n",
        "\n",
        "print(f'Mean Squared Error: {mse}')\n",
        "print(f'R-squared: {r2}')\n",
        "\n",
        "# Predict the stock price for a future date\n",
        "future_date = datetime.date(2024, 1, 1)\n",
        "future_date_ordinal = future_date.toordinal()\n",
        "future_price = model.predict([[future_date_ordinal]])\n",
        "\n",
        "print(f'Predicted stock price on {future_date}: {future_price[0]:.2f}')"
      ]
    }
  ]
}